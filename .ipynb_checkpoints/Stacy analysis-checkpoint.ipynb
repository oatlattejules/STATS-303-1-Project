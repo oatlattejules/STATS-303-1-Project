{
 "cells": [
  {
   "cell_type": "code",
   "execution_count": 1,
   "id": "7f963c16-5a17-4080-b626-2ed64e3daea2",
   "metadata": {
    "tags": []
   },
   "outputs": [],
   "source": [
    "import pandas as pd\n",
    "import numpy as np\n",
    "import matplotlib.pyplot as plt\n",
    "import seaborn as sns"
   ]
  },
  {
   "cell_type": "code",
   "execution_count": 10,
   "id": "907e8b43-d6e9-4ced-838f-384a6a8c8cf4",
   "metadata": {
    "tags": []
   },
   "outputs": [
    {
     "data": {
      "text/plain": [
       "Index(['State', 'Sex', 'GeneralHealth', 'PhysicalHealthDays',\n",
       "       'MentalHealthDays', 'LastCheckupTime', 'PhysicalActivities',\n",
       "       'SleepHours', 'RemovedTeeth', 'HadHeartAttack', 'HadAngina',\n",
       "       'HadStroke', 'HadAsthma', 'HadSkinCancer', 'HadCOPD',\n",
       "       'HadDepressiveDisorder', 'HadKidneyDisease', 'HadArthritis',\n",
       "       'HadDiabetes', 'DeafOrHardOfHearing', 'BlindOrVisionDifficulty',\n",
       "       'DifficultyConcentrating', 'DifficultyWalking',\n",
       "       'DifficultyDressingBathing', 'DifficultyErrands', 'SmokerStatus',\n",
       "       'ECigaretteUsage', 'ChestScan', 'RaceEthnicityCategory', 'AgeCategory',\n",
       "       'HeightInMeters', 'WeightInKilograms', 'BMI', 'AlcoholDrinkers',\n",
       "       'HIVTesting', 'FluVaxLast12', 'PneumoVaxEver', 'TetanusLast10Tdap',\n",
       "       'HighRiskLastYear', 'CovidPos'],\n",
       "      dtype='object')"
      ]
     },
     "execution_count": 10,
     "metadata": {},
     "output_type": "execute_result"
    }
   ],
   "source": [
    "data = pd.read_csv('heart_2022_no_nans.csv')\n",
    "data.columns"
   ]
  },
  {
   "cell_type": "code",
   "execution_count": 32,
   "id": "46ad0605-8d6e-49e1-a931-b5d23ea25b02",
   "metadata": {
    "tags": []
   },
   "outputs": [
    {
     "data": {
      "text/plain": [
       "State                        54\n",
       "GeneralHealth                 5\n",
       "PhysicalActivities            2\n",
       "SleepHours                   23\n",
       "HadHeartAttack                2\n",
       "HadAngina                     2\n",
       "HadStroke                     2\n",
       "HadAsthma                     2\n",
       "HadSkinCancer                 2\n",
       "HadCOPD                       2\n",
       "HadDepressiveDisorder         2\n",
       "HadKidneyDisease              2\n",
       "HadArthritis                  2\n",
       "HadDiabetes                   4\n",
       "DeafOrHardOfHearing           2\n",
       "BlindOrVisionDifficulty       2\n",
       "SmokerStatus                  4\n",
       "ECigaretteUsage               4\n",
       "AgeCategory                  13\n",
       "WeightInKilograms           516\n",
       "BMI                        3514\n",
       "AlcoholDrinkers               2\n",
       "dtype: int64"
      ]
     },
     "execution_count": 32,
     "metadata": {},
     "output_type": "execute_result"
    }
   ],
   "source": [
    "data_selected = data[['State','GeneralHealth', 'PhysicalActivities', 'SleepHours', 'HadHeartAttack', 'HadAngina', 'HadStroke',\n",
    "                      'HadAsthma','HadSkinCancer', 'HadCOPD', 'HadDepressiveDisorder', 'HadKidneyDisease', 'HadArthritis',\n",
    "                      'HadDiabetes', 'DeafOrHardOfHearing', 'BlindOrVisionDifficulty', 'SmokerStatus', 'ECigaretteUsage',\n",
    "                      'AgeCategory', 'WeightInKilograms', 'BMI', 'AlcoholDrinkers']]\n",
    "\n",
    "data_selected.nunique()"
   ]
  },
  {
   "cell_type": "code",
   "execution_count": null,
   "id": "2b6dc219-2108-46ba-988b-434cc3511a77",
   "metadata": {},
   "outputs": [],
   "source": []
  }
 ],
 "metadata": {
  "kernelspec": {
   "display_name": "Python 3 (ipykernel)",
   "language": "python",
   "name": "python3"
  },
  "language_info": {
   "codemirror_mode": {
    "name": "ipython",
    "version": 3
   },
   "file_extension": ".py",
   "mimetype": "text/x-python",
   "name": "python",
   "nbconvert_exporter": "python",
   "pygments_lexer": "ipython3",
   "version": "3.11.4"
  }
 },
 "nbformat": 4,
 "nbformat_minor": 5
}
