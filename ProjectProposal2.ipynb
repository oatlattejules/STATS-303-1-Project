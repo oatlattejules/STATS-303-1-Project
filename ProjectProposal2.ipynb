{
 "cells": [
  {
   "cell_type": "raw",
   "id": "33dd6c4c",
   "metadata": {},
   "source": [
    "---\n",
    "title: \"Project proposal\"\n",
    "format: \n",
    "  html:\n",
    "    toc: true\n",
    "    toc-title: Contents\n",
    "    code-fold: show\n",
    "    self-contained: true\n",
    "jupyter: python3\n",
    "---"
   ]
  },
  {
   "cell_type": "markdown",
   "id": "0116f49b",
   "metadata": {},
   "source": [
    "## Instructions {-}\n",
    "\n",
    "1. Please answer the following questions as part of your project proposal.\n",
    "\n",
    "2. Write your answers in the *Markdown* cells of the Jupyter notebook. You don't need to write any code, but if you want to, you may use the *Code* cells.\n",
    "\n",
    "3. Use [Quarto](https://quarto.org/docs/output-formats/html-basics.html) to print the *.ipynb* file as HTML. You will need to open the command prompt, navigate to the directory containing the file, and use the command: `quarto render filename.ipynb --to html`. Submit the HTML file.\n",
    "\n",
    "4. The project proposal is worth 8 points, and is due on **17th October 2023 at 11:59 pm**. \n",
    "\n",
    "5. You must make one submission as a group, and not individually.\n",
    "\n",
    "6. Maintaining a GitHub repository is optional, though encouraged for the project.\n",
    "\n",
    "7. Share the link of your project’s GitHub repository on the [spreadsheet](https://docs.google.com/spreadsheets/d/1khao3unpj_vsx4kOSg_Zzo77YK1UWL2w73Oa0aAirOo/edit#gid=0)."
   ]
  },
  {
   "cell_type": "markdown",
   "id": "fe7ea9bb",
   "metadata": {},
   "source": [
    "# 1) Team name\n",
    "Mention your team name.\n",
    "\n",
    "*(0 points)*"
   ]
  },
  {
   "cell_type": "markdown",
   "id": "5996e4e8",
   "metadata": {},
   "source": [
    "JRSS"
   ]
  },
  {
   "cell_type": "markdown",
   "id": "16fccc9b",
   "metadata": {},
   "source": [
    "# 2) Member names\n",
    "Mention the names of your team members.\n",
    "\n",
    "*(0 points)*"
   ]
  },
  {
   "cell_type": "markdown",
   "id": "79a7d887",
   "metadata": {},
   "source": [
    "Rui Wen, Stacy Jeong, Julianna Wang, Seoyoung Yoon"
   ]
  },
  {
   "cell_type": "markdown",
   "id": "16c1a490",
   "metadata": {},
   "source": [
    "# 3) Topic\n",
    "Mention the topic of your course project.\n",
    "\n",
    "*(0 points)*"
   ]
  },
  {
   "cell_type": "markdown",
   "id": "3c345945",
   "metadata": {},
   "source": [
    "Magnitude of factors that affect heart disease for each state/region of the United States. "
   ]
  },
  {
   "cell_type": "markdown",
   "id": "9403cdfb",
   "metadata": {},
   "source": [
    "# 4) Inspiration\n",
    "What inspired your team to choose this topic?\n",
    "\n",
    "*(0.1 points)*"
   ]
  },
  {
   "cell_type": "markdown",
   "id": "a91d6870",
   "metadata": {},
   "source": [
    "Heart disease is one of the leading causes of death in the United States. Investigating this topic will allow us to understand overall health trends across the country and how lifestyle characteristics influence heart health (and death from heart disease). Additionally, our backgrounds are focused in health/education/computer science, so we wanted to find a topic that would combine all of our interests."
   ]
  },
  {
   "cell_type": "markdown",
   "id": "51a7babb",
   "metadata": {},
   "source": [
    "# 5) EDA (Exploratory data analysis) questions\n",
    "\n",
    "Explain the questions to be answered in your course project. You must have 4 questions - one for each team member. Mention the name of the team member and the question that they will answer against it.\n",
    "\n",
    "*(0.4 points)*"
   ]
  },
  {
   "cell_type": "markdown",
   "id": "aae8d41c",
   "metadata": {},
   "source": [
    "1. For each state, what are the most common indicators of heart disease? - Rui Wen\n",
    "2. For each state, is there a correlation between other health conditions (diabetes, asthma, arthritis, kidney disease, etc.) and having a heart condition? (heart attack, angina) - Julianna Wang\n",
    "3. Do \"healthier\" (physical activity, good general health, +8 sleep hours, etc.) states see a lower amount of heart attacks/angina compared to states that are \"less healthy\"? - Seoyoung Yoon\n",
    "4. What regions of the US are more/less at risk for heart disease? - Stacy Jeong"
   ]
  },
  {
   "cell_type": "markdown",
   "id": "3eb2d4f2",
   "metadata": {},
   "source": [
    "# 6) Data \n",
    "\n",
    "What data sources will you use, and how will the data help answer the questions? Explain.\n",
    "\n",
    "If the data is open source, share the link of the data.\n",
    "\n",
    "What is the number of continuous variables, categorical variables, and observations in your dataset(s). If you are using multiple datasets, please provide the information for each dataset. When counting variables, count only those that have sufficient non-missing values, and will be useful.\n",
    "\n",
    "Which variable is the main variable of interest? For example, if you are analyzing election trends, then the variable consisting of number of votes may be the main variable of interest. If you are analyzing crime rate, the variable consisting of the number of crimes may be the main variable of interest.\n",
    "\n",
    "*Note: You cannot use any of the datasets mentioned [here](https://sites.google.com/view/stat303-1fall2023/project).*\n",
    "\n",
    "*(0.4 points)*"
   ]
  },
  {
   "attachments": {},
   "cell_type": "markdown",
   "id": "ac2d67ef",
   "metadata": {},
   "source": [
    "https://www.kaggle.com/datasets/kamilpytlak/personal-key-indicators-of-heart-disease (working with the 2022 dataset: 'heart_2022_no_nans.csv') \n",
    "\n",
    "**Continuous Variables:** PhysicalHealthDays, MentalHealthDays, PhysicalActivities, SleepHours, HeightInMeters\tWeightInKilograms, BMI\n",
    "**Categorical Variables:** State, Sex, GeneralHealth, LastCheckupTime, PhysicalActivities, RemovedTeeth, HadHeartAttack, HadAngina, HadStroke, HadSkinCancer, HadCOPD, HadDepressiveDisorder, HadKidneyDisease, HadArthritis, HadDiabetes, DeafOrHardOfHearing, BlindOrVisionDifficulty, DiffulctyConcentrating, DifficultyWalking, DifficultyDressingBathing, DifficultyErrands, SmokerStatus, ECigaretteUsage, ChestScan, RaceEthnicityCategory, AgeCategory, AlcoholDrinkers, HIVTesting, FluVaxLast12, PneumoVaxEver, TetanusLast10Tdap, HighRiskLastYear, CovidPos\n",
    "**Observations:** 246,022 \n",
    "**Variable of interest:** State"
   ]
  },
  {
   "cell_type": "code",
   "execution_count": 4,
   "id": "d8e7a982",
   "metadata": {},
   "outputs": [
    {
     "data": {
      "text/plain": [
       "(246022, 40)"
      ]
     },
     "execution_count": 4,
     "metadata": {},
     "output_type": "execute_result"
    }
   ],
   "source": [
    "import pandas as pd \n",
    "file = pd.read_csv('heart_2022_no_nans.csv')\n",
    "df = pd.DataFrame(file)\n",
    "\n",
    "\n",
    "df.dropna().shape"
   ]
  },
  {
   "cell_type": "markdown",
   "id": "cb8a845f",
   "metadata": {},
   "source": [
    "# 7) Stakeholders"
   ]
  },
  {
   "cell_type": "markdown",
   "id": "d39c782c",
   "metadata": {},
   "source": [
    "Who are the stakeholders, and how will your project benefit them? Explain.\n",
    "\n",
    "*(0.1 points)*"
   ]
  },
  {
   "cell_type": "markdown",
   "id": "b02ed288",
   "metadata": {},
   "source": [
    "Stakeholders are health professionals whose work is focused on heart health/disease and hospitals that specialize in treating heart conditions. This dataset will allow us to analyze the which states/regions of the country are more at risk for heart disease. Our variable, State, will be particularly helpful because we will be able to identify regional differences. This will allow healthcare professionals to understand health trends of each state/region and which identifiers to place more emphasis on in preventing/treating heart disease. "
   ]
  }
 ],
 "metadata": {
  "kernelspec": {
   "display_name": "Python 3 (ipykernel)",
   "language": "python",
   "name": "python3"
  },
  "language_info": {
   "codemirror_mode": {
    "name": "ipython",
    "version": 3
   },
   "file_extension": ".py",
   "mimetype": "text/x-python",
   "name": "python",
   "nbconvert_exporter": "python",
   "pygments_lexer": "ipython3",
   "version": "3.11.4"
  }
 },
 "nbformat": 4,
 "nbformat_minor": 5
}
