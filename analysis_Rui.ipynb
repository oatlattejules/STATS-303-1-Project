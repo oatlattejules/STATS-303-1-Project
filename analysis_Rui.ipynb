{
 "cells": [
  {
   "cell_type": "code",
   "execution_count": 1,
   "id": "afeee2ea",
   "metadata": {},
   "outputs": [],
   "source": [
    "import pandas as pd\n",
    "import numpy as np\n",
    "import matplotlib.pyplot as plt\n",
    "import seaborn as sns"
   ]
  },
  {
   "cell_type": "code",
   "execution_count": 8,
   "id": "f10c4f35",
   "metadata": {},
   "outputs": [],
   "source": [
    "data = pd.read_csv(\"heart_2022_no_nans.csv\")"
   ]
  },
  {
   "cell_type": "code",
   "execution_count": 7,
   "id": "e7fb3c0a",
   "metadata": {},
   "outputs": [
    {
     "data": {
      "text/plain": [
       "<bound method NDFrame.head of                  State GeneralHealth PhysicalActivities  SleepHours  \\\n",
       "0              Alabama     Very good                Yes         9.0   \n",
       "1              Alabama     Very good                Yes         6.0   \n",
       "2              Alabama     Very good                 No         8.0   \n",
       "3              Alabama          Fair                Yes         9.0   \n",
       "4              Alabama          Good                Yes         5.0   \n",
       "...                ...           ...                ...         ...   \n",
       "246017  Virgin Islands     Very good                Yes         6.0   \n",
       "246018  Virgin Islands          Fair                Yes         7.0   \n",
       "246019  Virgin Islands          Good                Yes         7.0   \n",
       "246020  Virgin Islands     Excellent                Yes         7.0   \n",
       "246021  Virgin Islands     Very good                 No         5.0   \n",
       "\n",
       "       HadHeartAttack HadAngina HadStroke HadAsthma HadSkinCancer HadCOPD  \\\n",
       "0                  No        No        No        No            No      No   \n",
       "1                  No        No        No        No            No      No   \n",
       "2                  No        No        No        No            No      No   \n",
       "3                  No        No        No        No           Yes      No   \n",
       "4                  No        No        No        No            No      No   \n",
       "...               ...       ...       ...       ...           ...     ...   \n",
       "246017             No        No        No        No            No      No   \n",
       "246018             No        No        No        No            No      No   \n",
       "246019             No        No       Yes        No            No      No   \n",
       "246020             No        No        No        No            No      No   \n",
       "246021            Yes        No        No       Yes            No      No   \n",
       "\n",
       "        ... HadDiabetes DeafOrHardOfHearing BlindOrVisionDifficulty  \\\n",
       "0       ...          No                  No                      No   \n",
       "1       ...         Yes                  No                      No   \n",
       "2       ...          No                  No                     Yes   \n",
       "3       ...          No                  No                      No   \n",
       "4       ...          No                  No                      No   \n",
       "...     ...         ...                 ...                     ...   \n",
       "246017  ...          No                  No                      No   \n",
       "246018  ...          No                  No                      No   \n",
       "246019  ...         Yes                  No                      No   \n",
       "246020  ...          No                  No                      No   \n",
       "246021  ...          No                  No                      No   \n",
       "\n",
       "         SmokerStatus                            ECigaretteUsage  \\\n",
       "0       Former smoker  Never used e-cigarettes in my entire life   \n",
       "1       Former smoker  Never used e-cigarettes in my entire life   \n",
       "2       Former smoker  Never used e-cigarettes in my entire life   \n",
       "3        Never smoked  Never used e-cigarettes in my entire life   \n",
       "4        Never smoked  Never used e-cigarettes in my entire life   \n",
       "...               ...                                        ...   \n",
       "246017   Never smoked  Never used e-cigarettes in my entire life   \n",
       "246018   Never smoked  Never used e-cigarettes in my entire life   \n",
       "246019   Never smoked  Never used e-cigarettes in my entire life   \n",
       "246020   Never smoked  Never used e-cigarettes in my entire life   \n",
       "246021   Never smoked  Never used e-cigarettes in my entire life   \n",
       "\n",
       "            AgeCategory WeightInKilograms    BMI AlcoholDrinkers  CovidPos  \n",
       "0          Age 65 to 69             71.67  27.99              No        No  \n",
       "1          Age 70 to 74             95.25  30.13              No        No  \n",
       "2          Age 75 to 79            108.86  31.66             Yes       Yes  \n",
       "3       Age 80 or older             90.72  31.32              No       Yes  \n",
       "4       Age 80 or older             79.38  33.07              No        No  \n",
       "...                 ...               ...    ...             ...       ...  \n",
       "246017     Age 60 to 64            102.06  32.28             Yes        No  \n",
       "246018     Age 25 to 29             90.72  24.34              No       Yes  \n",
       "246019     Age 65 to 69             83.91  29.86             Yes       Yes  \n",
       "246020     Age 50 to 54             83.01  28.66              No        No  \n",
       "246021     Age 70 to 74            108.86  32.55              No       Yes  \n",
       "\n",
       "[246022 rows x 23 columns]>"
      ]
     },
     "execution_count": 7,
     "metadata": {},
     "output_type": "execute_result"
    }
   ],
   "source": [
    "selected_columns = [\"State\", \"GeneralHealth\", \"PhysicalActivities\", \"SleepHours\", \"HadHeartAttack\", \"HadAngina\", \"HadStroke\", \"HadAsthma\", \"HadSkinCancer\", \"HadCOPD\", \"HadDepressiveDisorder\", \"HadKidneyDisease\", \"HadArthritis\", \"HadDiabetes\", \"DeafOrHardOfHearing\", \"BlindOrVisionDifficulty\", \"SmokerStatus\", \"ECigaretteUsage\", \"AgeCategory\", \"WeightInKilograms\", \"BMI\", \"AlcoholDrinkers\", \"CovidPos\"]\n",
    "subset = data[selected_columns]\n",
    "subset.head"
   ]
  },
  {
   "cell_type": "code",
   "execution_count": 10,
   "id": "686ddbc2",
   "metadata": {},
   "outputs": [
    {
     "name": "stdout",
     "output_type": "stream",
     "text": [
      "test\n"
     ]
    }
   ],
   "source": [
    "print(\"test\")"
   ]
  }
 ],
 "metadata": {
  "kernelspec": {
   "display_name": "Python 3 (ipykernel)",
   "language": "python",
   "name": "python3"
  },
  "language_info": {
   "codemirror_mode": {
    "name": "ipython",
    "version": 3
   },
   "file_extension": ".py",
   "mimetype": "text/x-python",
   "name": "python",
   "nbconvert_exporter": "python",
   "pygments_lexer": "ipython3",
   "version": "3.10.9"
  }
 },
 "nbformat": 4,
 "nbformat_minor": 5
}
